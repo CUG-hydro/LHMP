{
 "cells": [
  {
   "cell_type": "markdown",
   "metadata": {},
   "source": [
    "# GR4J-Cema-Neige hydrological model playground\n",
    "\n",
    "## 1. Intro\n",
    "\n",
    "Playground is based on [Jupyter notebook](https://jupyter-notebook.readthedocs.io) internal functionality. \n",
    "The only thing you need to know - how to run the code inside the cell. \n",
    "\n",
    "The simpliest way to run the code - to use ```\"Shift+Enter\"``` shortcut. You can also use standard-looking ```\"play button\"``` in the toolbar above.\n",
    "\n",
    "If you want to know more about scientific computing with Python and Jupyter notebooks, please refer to great tutorials from [Robert Johansson](https://github.com/jrjohansson/scientific-python-lectures) and [Nikolay Koldunov](https://github.com/koldunovn/python_for_geosciences).\n",
    "\n",
    "## 2. Let's get started\n",
    "In the cell below we put some required lines of code: for modules importing and variables initialization.\n",
    "\n",
    "Just run the code and go further."
   ]
  },
  {
   "cell_type": "code",
   "execution_count": null,
   "metadata": {
    "collapsed": false
   },
   "outputs": [],
   "source": [
    "# import system path to model\n",
    "import sys\n",
    "sys.path.append('../models/')\n",
    "# import GR4J-Cema-Neige model itself\n",
    "from gr4j_cemaneige import interaction\n",
    "# import Jupyter widget for interactive playground set-up\n",
    "from ipywidgets import interact\n",
    "# let the plotting library to draw figures inside the output cell\n",
    "%matplotlib inline\n",
    "# variables initialization\n",
    "# you can change it in interactive manner later\n",
    "river_name = 'Pur River' # River name for figure caption\n",
    "path_to_scheme = '../data/pur_scheme.csv' # link to our basin schematization\n",
    "path_to_observations = '../data/pur_observations.csv' # link to runoff observations"
   ]
  },
  {
   "cell_type": "markdown",
   "metadata": {},
   "source": [
    "## 3. Run the model!\n",
    "\n",
    "Firstly just run the code in the cell below.\n",
    "\n",
    "After running you can:\n",
    "* define the appropriate ```river name```. Do not worry about it - this name is used only for figure caption drawing;\n",
    "* define ```path to scheme``` - .csv file that holds our 0.5°x0.5° basin schematization. In according to this file we prepare our input meteorological forcing data. There are three main basins schemes provided by default:\n",
    "    * for the Nadym river ```../data/nadym_scheme.csv```, \n",
    "    * for the Pur river ```../data/pur_scheme.csv```, \n",
    "    * and for the Taz river ```../data/taz_scheme.csv```;\n",
    "* define ```path to observations``` - .csv file that holds timesries of daily runoff direct observations. In according to this file we calculate the [Nash-Sutcliffe model efficiency coefficient](https://en.wikipedia.org/wiki/Nash%E2%80%93Sutcliffe_model_efficiency_coefficient) (the best value is 1.0, but if it is >0.5 your model shows satisfactory result) and draw observation points on figure canvas. There are three runoff timeseries provided by default:\n",
    "    * for the Nadym river (gauge station \"Nadym\") ```../data/nadym_observations.csv```, \n",
    "    * for the Pur river (gauge station \"Urengoy\") ```../data/pur_observations.csv```, \n",
    "    * and for the Taz river (gauge station \"Sidorovsk\") ```../data/taz_observations```;\n",
    "* setting-up GR4J-Cema-Neige model parameters by moving a slider (please refer to **Section 4** for parameters descripton)\n",
    "* run model simulation **by pressing ```\"Run interaction button\"```** (the calculations take < 30 seconds)"
   ]
  },
  {
   "cell_type": "code",
   "execution_count": null,
   "metadata": {
    "collapsed": false,
    "scrolled": false
   },
   "outputs": [],
   "source": [
    "interact(interaction, \n",
    "         river_name=river_name, \n",
    "         path_to_scheme=path_to_scheme, \n",
    "         path_to_observations=path_to_observations,\n",
    "         X1=(0, 1500, 100), \n",
    "         X2=(-10, 5, 0.5), \n",
    "         X3=(0, 500, 10), \n",
    "         X4=(0, 4, 0.1), \n",
    "         X5=(0, 1, 0.1), \n",
    "         X6=(1, 10, 0.5), \n",
    "         __manual=True)"
   ]
  },
  {
   "cell_type": "markdown",
   "metadata": {
    "collapsed": true
   },
   "source": [
    "## 4. What does the GR4J-Cema-Neige model parameters mean?\n",
    "| Parameter        | Description                             | Minimum | Maximum |\n",
    "|------------------|-----------------------------------------|---------|---------|\n",
    "| X1 (mm)          | Capacity of the production store        | 0       | 1500    |\n",
    "| X2 (mm)          | Groundwater exchange coefficient        | -10     | 5       |\n",
    "| X3 (mm)          | Capacity of the nonlinear routing store | 1       | 500     |\n",
    "| X4 (d)           | Unit hydrograph time base               | 0.5     | 4       |\n",
    "| X5               | Snowpack thermal state coefficient      | 0       | 1       |\n",
    "| X6 (mm °C-1 d-1) | Melt rate of snowpack                   | 1       | 10      |\n",
    "\n",
    "## 5. I can not find good parameters set, can you help me?\n",
    "***Of course, we can!***\n",
    "Please, send you parameters set to [ayzelgv@gmail.com](mailto: ayzelgv@gmail.com), after that we will send you the one of the three optimal parameters sets (by random choice) for the Nadym, Pur, and Taz basins.\n",
    "\n",
    "## 6. How to cite\n",
    "Do not forget to properly cite separate items. We recommend to follow citations below:\n",
    "\n",
    "* For GR4J-Cema-Neige model:\n",
    "\t* Perrin, C., Michel, C., & Andréassian, V. (2003). Improvement of a parsimonious model for streamflow simulation. Journal of Hydrology, 279(1), 275-289.\n",
    "\t* Valéry, A. (2010). Modélisation précipitations–débit sous influence nivale. Élaboration d’un module neige et évaluation sur 380 bassins versants. Agro Paris Tech., Paris, France.\n",
    "* For LHMP framework and playgroound:\n",
    "\t* Ayzel, G. (2016). Lumped Hydrological Models Playground. [github.com/hydrogo/LHMP](github.com/hydrogo/LHMP), [hub.docker.com/r/hydrogo/lhmp/](hub.docker.com/r/hydrogo/lhmp/).\n",
    "\t* Ayzel Georgy. (2016). LHMP: lumped hydrological modelling playground. Zenodo. doi: [10.5281/zenodo.59501](http://dx.doi.org/10.5281/zenodo.59501)."
   ]
  }
 ],
 "metadata": {
  "kernelspec": {
   "display_name": "Python 3",
   "language": "python",
   "name": "python3"
  },
  "language_info": {
   "codemirror_mode": {
    "name": "ipython",
    "version": 3
   },
   "file_extension": ".py",
   "mimetype": "text/x-python",
   "name": "python",
   "nbconvert_exporter": "python",
   "pygments_lexer": "ipython3",
   "version": "3.5.2"
  }
 },
 "nbformat": 4,
 "nbformat_minor": 0
}
