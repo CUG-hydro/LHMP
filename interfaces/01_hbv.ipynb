{
 "cells": [
  {
   "cell_type": "markdown",
   "metadata": {},
   "source": [
    "# HBV hydrological model playground\n",
    "\n",
    "## 1. Intro\n",
    "\n",
    "Playground is based on [Jupyter notebook](https://jupyter-notebook.readthedocs.io) internal functionality. \n",
    "The only thing you need to know - how to run the code inside the cell. \n",
    "\n",
    "The simpliest way to run the code - to use ```\"Shift+Enter\"``` shortcut. You can also use standard-looking ```\"play button\"``` in the toolbar above.\n",
    "\n",
    "If you want to know more about scientific computing with Python and Jupyter notebooks, please refer to great tutorials from [Robert Johansson](https://github.com/jrjohansson/scientific-python-lectures) and [Nikolay Koldunov](https://github.com/koldunovn/python_for_geosciences).\n",
    "\n",
    "## 2. Let's get started\n",
    "In the cell below we put some required lines of code: for modules importing and variables initialization.\n",
    "\n",
    "Just run the code and go further."
   ]
  },
  {
   "cell_type": "code",
   "execution_count": null,
   "metadata": {
    "collapsed": false
   },
   "outputs": [],
   "source": [
    "# import system path to model\n",
    "import sys\n",
    "sys.path.append('../models/')\n",
    "# import HBV model itself\n",
    "from hbv import interaction\n",
    "# import Jupyter widget for interactive playground set-up\n",
    "from ipywidgets import interact\n",
    "# let the plotting library to draw figures inside the output cell\n",
    "%matplotlib inline\n",
    "# variables initialization\n",
    "# you can change it in interactive manner later\n",
    "river_name = 'Pur River' # River name for figure caption\n",
    "path_to_scheme = '../data/pur_scheme.csv' # link to our basin schematization\n",
    "path_to_observations = '../data/pur_observations.csv' # link to runoff observations"
   ]
  },
  {
   "cell_type": "markdown",
   "metadata": {},
   "source": [
    "## 3. Run the model!\n",
    "\n",
    "Firstly just run the code in the cell below.\n",
    "\n",
    "After running you can:\n",
    "* define the appropriate ```river name```. Do not worry about it - this name is used only for figure caption drawing;\n",
    "* define ```path to scheme``` - .csv file that holds our 0.5°x0.5° basin schematization. In according to this file we prepare our input meteorological forcing data. There are three main basins schemes provided by default:\n",
    "    * for the Nadym river ```../data/nadym_scheme.csv```, \n",
    "    * for the Pur river ```../data/pur_scheme.csv```, \n",
    "    * and for the Taz river ```../data/taz_scheme.csv```;\n",
    "* define ```path to observations``` - .csv file that holds timesries of daily runoff direct observations. In according to this file we calculate the [Nash-Sutcliffe model efficiency coefficient](https://en.wikipedia.org/wiki/Nash%E2%80%93Sutcliffe_model_efficiency_coefficient) (the best value is 1.0, but if it is >0.5 your model shows satisfactory result) and draw observation points on figure canvas. There are three runoff timeseries provided by default:\n",
    "    * for the Nadym river (gauge station \"Nadym\") ```../data/nadym_observations.csv```, \n",
    "    * for the Pur river (gauge station \"Urengoy\") ```../data/pur_observations.csv```, \n",
    "    * and for the Taz river (gauge station \"Sidorovsk\") ```../data/taz_observations```;\n",
    "* setting-up HBV model parameters by moving a slider (please refer to **Section 4** for parameters descripton)\n",
    "* run model simulation **by pressing ```\"Run interaction button\"```** (the calculations take < 30 seconds)"
   ]
  },
  {
   "cell_type": "code",
   "execution_count": null,
   "metadata": {
    "collapsed": false,
    "scrolled": false
   },
   "outputs": [],
   "source": [
    "interact(interaction, \n",
    "         river_name=river_name, \n",
    "         path_to_scheme=path_to_scheme, \n",
    "         path_to_observations=path_to_observations,\n",
    "         parTT=(-1.5, 2.5, 0.1),\n",
    "         parSFCF=(0.4, 1, 0.1),\n",
    "         parCWH=(0, 0.2, 0.01),\n",
    "         parCFMAX=(1, 10, 1),\n",
    "         parCFR=(0, 0.1, 0.01),\n",
    "         parFC=(50, 500, 50),\n",
    "         parLP=(0.3, 1, 0.1),\n",
    "         parBETA=(1, 6, 1),\n",
    "         parUZL=(0, 500, 50),\n",
    "         parPERC=(0, 3, 0.2),\n",
    "         parPCORR=(0.5, 2, 0.1),\n",
    "         parCET=(0, 0.3, 0.1),\n",
    "         parK0=(0.01, 0.4, 0.05),\n",
    "         parK1=(0.01, 0.4, 0.05),\n",
    "         parK2=(0.001, 0.15, 0.005),\n",
    "         parMAXBAS=(1, 7, 1),\n",
    "         __manual=True)"
   ]
  },
  {
   "cell_type": "markdown",
   "metadata": {
    "collapsed": true
   },
   "source": [
    "## 4. What does the HBV model parameters mean?\n",
    "\n",
    "| Parameter           | Description                                                                                   | Minimum | Maximum |\n",
    "|---------------------|-----------------------------------------------------------------------------------------------|---------|---------|\n",
    "| TT (°C)             | Threshold temperature when precipitation is simulated as snowfall                             | -1.5    | 2.5     |\n",
    "| SFCF                | Snowfall gauge undercatch correction factor                                                   | 0.4     | 1       |\n",
    "| CWH                 | Water holding capacity of snow                                                                | 0       | 0.2     |\n",
    "| CFMAX (mm °C-1 d-1) | Melt rate of snowpack                                                                         | 1       | 10      |\n",
    "| CFR                 | Refreezing coefficient                                                                        | 0       | 0.1     |\n",
    "| FC (mm)             | Maximum water storage in the unsaturated zone store                                           | 50      | 500     |\n",
    "| LP                  | Threshold of soil moisture value above which actual evaporation reaches potential evaporation | 0.3     | 1       |\n",
    "| BETA                | Shape coefficient of recharge function                                                        | 1       | 6       |\n",
    "| UZL (mm)            | Threshold parameter for extra outflow from upper zone                                         | 0       | 500     |\n",
    "| PERC (mm d-1)       | Maximum percolation to lower zone                                                             | 0       | 3       |\n",
    "| PCORR               | Precipitation correction factor                                                               | 0.5     | 2       |\n",
    "| CET                 | Evaporation correction factor                                                                 | 0       | 0.3     |\n",
    "| K0 (d-1)            | Additional recession coefficient of upper groundwater storage                                 | 0.01    | 0.4     |\n",
    "| K1 (d-1)            | Recession coefficient of upper groundwater store                                              | 0.01    | 0.4     |\n",
    "| K2 (d-1)            | Recession coefficient of lower groundwater store                                              | 0.001   | 0.15    |\n",
    "| MAXBAS (d)          | Routing scheme parameter                                                                      | 1       | 7       |\n",
    "\n",
    "## 5. I can not find good parameters set, can you help me?\n",
    "***Of course, we can!***\n",
    "Please, send you parameters set to [ayzelgv@gmail.com](mailto: ayzelgv@gmail.com), after that we will send you the one of the three optimal parameters sets (by random choice) for the Nadym, Pur, and Taz basins.\n",
    "\n",
    "## 6. How to cite\n",
    "Do not forget to properly cite separate items. We recommend to follow citations below:\n",
    "\n",
    "* For HBV model:\n",
    "\t* Bergström, S. (1992). The HBV model: Its structure and applications. Swedish Meteorological and Hydrological Institute.\n",
    "\t* Lindström, G., Johansson, B., Persson, M., Gardelin, M., & Bergström, S. (1997). Development and test of the distributed HBV-96 hydrological model. Journal of hydrology, 201(1), 272-288.\n",
    "\t* Beck, H. E., van Dijk, A. I., de Roo, A., Miralles, D. G., McVicar, T. R., Schellekens, J., & Bruijnzeel, L. A. (2016). Global‐scale regionalization of hydrologic model parameters. Water Resources Research.\n",
    "* For LHMP framework and playgroound:\n",
    "\t* Ayzel, G. (2016). Lumped Hydrological Models Playground. [github.com/hydrogo/LHMP](github.com/hydrogo/LHMP), [hub.docker.com/r/hydrogo/lhmp/](hub.docker.com/r/hydrogo/lhmp/).\n",
    "\t* Ayzel, G. (2016). LHMP: lumped hydrological modelling playground. Zenodo. doi: [10.5281/zenodo.59501](http://dx.doi.org/10.5281/zenodo.59501)."
   ]
  }
 ],
 "metadata": {
  "kernelspec": {
   "display_name": "Python 3",
   "language": "python",
   "name": "python3"
  },
  "language_info": {
   "codemirror_mode": {
    "name": "ipython",
    "version": 3
   },
   "file_extension": ".py",
   "mimetype": "text/x-python",
   "name": "python",
   "nbconvert_exporter": "python",
   "pygments_lexer": "ipython3",
   "version": "3.5.2"
  }
 },
 "nbformat": 4,
 "nbformat_minor": 0
}
